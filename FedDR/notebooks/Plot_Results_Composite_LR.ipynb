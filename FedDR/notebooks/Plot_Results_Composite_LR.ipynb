{
 "cells": [
  {
   "cell_type": "markdown",
   "metadata": {},
   "source": [
    "# Plot grid search"
   ]
  },
  {
   "cell_type": "code",
   "execution_count": null,
   "metadata": {},
   "outputs": [],
   "source": [
    "# the name of folders that contains all results for this plot\n",
    "#### uncomment corresponding dataset to plot ####\n",
    "exp_id, dataset = 'test_feddr_synthetic_0_0_regl1_lr', 'synthetic_0_0'\n",
    "# exp_id, dataset = 'test_feddr_FEMNIST_regl1_lr', 'FEMNIST'\n",
    "\n",
    "# specify log folder\n",
    "log_folder = \"../logs/\" + exp_id\n",
    "\n",
    "dataname_dict = {'synthetic_iid': 'synthetic-iid',\n",
    "                 'synthetic_0_0': 'synthetic-(0,0)',\n",
    "                 'synthetic_0.5_0.5':'synthetic-(0.5,0.5)',\n",
    "                 'synthetic_1_1': 'synthetic-(1,1)',\n",
    "                 'FEMNIST': 'FEMNIST'}"
   ]
  },
  {
   "cell_type": "markdown",
   "metadata": {},
   "source": [
    "# Import library and some support function"
   ]
  },
  {
   "cell_type": "code",
   "execution_count": null,
   "metadata": {},
   "outputs": [],
   "source": [
    "import os\n",
    "import numpy as np\n",
    "import pandas as pd\n",
    "from matplotlib import pyplot as plt\n",
    "\n",
    "import matplotlib.pylab as pylab\n",
    "params = {'legend.fontsize': '14',\n",
    "          'figure.figsize': (15, 5),\n",
    "          'figure.titlesize': '16',\n",
    "         'axes.labelsize': '12',\n",
    "         'axes.titlesize':'12',\n",
    "         'xtick.labelsize':'12',\n",
    "         'ytick.labelsize':'12'}\n",
    "pylab.rcParams.update(params)\n",
    "\n",
    "def get_file(log_folder, dataset):\n",
    "    files = [f for f in os.listdir(log_folder)]\n",
    "    return files\n",
    "\n",
    "def read_csv(file_name):\n",
    "    if os.path.exists(file_name):\n",
    "        data = pd.read_csv( file_name)\n",
    "        return data\n",
    "    else:\n",
    "        raise ValueError('File not exists: {}'.format(path))\n",
    "\n",
    "def plot_results(alg_data, legend_list=None, figsize=(16,3.5), title=None, \n",
    "                     lstyle=None, freq=None, show_xlabel=True, use_bytes=False, \n",
    "                     use_rel_loss=False, plot_log=False, xlim=None, ylim=None):\n",
    "    # Create two subplots and unpack the output array immediately\n",
    "    f, (ax1, ax2, ax3) = plt.subplots(1, 3, sharey=False, figsize=figsize)\n",
    "    \n",
    "    if lstyle is None:\n",
    "        lstyle = ['-' for _ in range(len(alg_data))]\n",
    "    \n",
    "    if use_bytes:\n",
    "        max_x = np.max(alg_data[0].NumBytes)\n",
    "        if freq is None:\n",
    "            freq = [np.size(alg_data[i].NumBytes)//10 for i in range(len(alg_data))]\n",
    "    else:\n",
    "        if freq is None:\n",
    "            freq = [np.size(alg_data[i].ComRound)//10 for i in range(len(alg_data))]\n",
    "        max_x = np.max(alg_data[0].ComRound)\n",
    "    \n",
    "    if use_rel_loss:\n",
    "        min_loss = np.min([np.min(alg_data[i].TrainLoss) for i in range(len(alg_data))])\n",
    "        for i in range(len(alg_data)):\n",
    "            alg_data[i]['RelTrainLoss'] = (alg_data[i]['TrainLoss'] - min_loss)/ np.abs(min_loss)\n",
    "    for i, data in enumerate(alg_data):\n",
    "        if use_bytes:\n",
    "            if use_rel_loss:\n",
    "                if plot_log:\n",
    "                    ax1.semilogy(data.NumBytes, data.RelTrainLoss, lstyle[i], linewidth=2, markevery = freq[i], markersize=8)\n",
    "                else:\n",
    "                    ax1.plot(data.NumBytes, data.RelTrainLoss, lstyle[i], linewidth=2, markevery = freq[i], markersize=8)\n",
    "            else:\n",
    "                if plot_log:\n",
    "                    ax1.semilogy(data.NumBytes, data.TrainLoss, lstyle[i], linewidth=2, markevery = freq[i], markersize=8)\n",
    "                else:\n",
    "                    ax1.plot(data.NumBytes, data.TrainLoss, lstyle[i], linewidth=2, markevery = freq[i], markersize=8)\n",
    "            ax2.plot(data.NumBytes, data.TrainAcc, lstyle[i], linewidth=2, markevery = freq[i], markersize=8)\n",
    "            ax3.plot(data.NumBytes, data.TestAcc, lstyle[i], linewidth=2, markevery = freq[i], markersize=8)\n",
    "        else:\n",
    "            if use_rel_loss:\n",
    "                if plot_log:\n",
    "                    ax1.semilogy(data.ComRound, data.RelTrainLoss, lstyle[i], linewidth=2, markevery = freq[i], markersize=8)\n",
    "                else:\n",
    "                    ax1.plot(data.ComRound, data.RelTrainLoss, lstyle[i], linewidth=2, markevery = freq[i], markersize=8)\n",
    "            else:\n",
    "                if plot_log:\n",
    "                    ax1.semilogy(data.ComRound, data.TrainLoss, lstyle[i], linewidth=2, markevery = freq[i], markersize=8)\n",
    "                else:\n",
    "                    ax1.plot(data.ComRound, data.TrainLoss, lstyle[i], linewidth=2, markevery = freq[i], markersize=8)\n",
    "            ax2.plot(data.ComRound, data.TrainAcc, lstyle[i], linewidth=2, markevery = freq[i], markersize=8)\n",
    "            ax3.plot(data.ComRound, data.TestAcc, lstyle[i], linewidth=2, markevery = freq[i], markersize=8)\n",
    "\n",
    "    if show_xlabel:\n",
    "        if use_bytes:\n",
    "            ax1.set_xlabel('# Bytes')\n",
    "            ax2.set_xlabel('# Bytes')\n",
    "            ax3.set_xlabel('# Bytes')\n",
    "        else:\n",
    "            ax1.set_xlabel('# Comm. Rounds')\n",
    "            ax2.set_xlabel('# Comm. Rounds')\n",
    "            ax3.set_xlabel('# Comm. Rounds')\n",
    "    ax1.set_ylabel('TrainLoss')\n",
    "    ax2.set_ylabel('TrainAcc')\n",
    "    ax3.set_ylabel('TestAcc')\n",
    "    ax1.grid(axis='y')\n",
    "    ax2.grid(axis='y')\n",
    "    ax3.grid(axis='y')\n",
    "    if title is not None:\n",
    "        f.suptitle(title)\n",
    "    \n",
    "    div = 50\n",
    "    if xlim is None:\n",
    "        ax1.set_xlim([-max_x/div, max_x])\n",
    "        ax2.set_xlim([-max_x/div, max_x])\n",
    "        ax3.set_xlim([-max_x/div, max_x])\n",
    "    else:\n",
    "        ax1.set_xlim(xlim)\n",
    "        ax2.set_xlim(xlim)\n",
    "        ax3.set_xlim(xlim)\n",
    "    \n",
    "    if ylim is not None:\n",
    "        if ylim[0] is not None:\n",
    "            ax1.set_ylim(ylim[0])\n",
    "        if ylim[1] is not None:\n",
    "            ax2.set_ylim(ylim[1])\n",
    "        if ylim[2] is not None:\n",
    "            ax3.set_ylim(ylim[2])\n",
    "    \n",
    "    \n",
    "    if legend_list is None:\n",
    "        legend_list = [i for i in range(len(alg_data))]\n",
    "    ax3.legend(legend_list, loc='lower right', borderaxespad=0.)\n",
    "    plt.show()\n",
    "    \n",
    "    return f"
   ]
  },
  {
   "cell_type": "markdown",
   "metadata": {},
   "source": [
    "# Read data"
   ]
  },
  {
   "cell_type": "code",
   "execution_count": null,
   "metadata": {},
   "outputs": [],
   "source": [
    "#     print('Grid Search for',alg_name)\n",
    "file_name_list = get_file(log_folder, dataset)\n",
    "file_name_list.sort()\n",
    "file_name_list"
   ]
  },
  {
   "cell_type": "code",
   "execution_count": null,
   "metadata": {},
   "outputs": [],
   "source": [
    "data_list = []\n",
    "legend_list = []\n",
    "for file_name in file_name_list:\n",
    "    data_list.append(read_csv(os.path.join(log_folder,file_name)))\n",
    "    lr = float(file_name.split('_')[-1][2:-4])\n",
    "    legend_list.append('lr='+str(lr))\n",
    "legend_list"
   ]
  },
  {
   "cell_type": "markdown",
   "metadata": {},
   "source": [
    "# Plot in terms of communication rounds"
   ]
  },
  {
   "cell_type": "code",
   "execution_count": null,
   "metadata": {},
   "outputs": [],
   "source": [
    "# lstyle = ['-d','--s','-^','--o','-x','->']\n",
    "lstyle = ['-','-','-','-','-','-']"
   ]
  },
  {
   "cell_type": "code",
   "execution_count": null,
   "metadata": {
    "scrolled": true
   },
   "outputs": [],
   "source": [
    "# adjust ylimit for each plot here\n",
    "# ylim=[[0.1,0.7],[0.7,1.],[0.7,0.9]]\n",
    "ylim = None\n",
    "\n",
    "fig = plot_results(data_list, \n",
    "                       legend_list=legend_list, \n",
    "                       title=dataname_dict[dataset] + ', $g = ||\\cdot||_1$', \n",
    "                       lstyle=lstyle, freq=[30,40,30,40,30,40,30], use_bytes=False,\n",
    "                       use_rel_loss=False, plot_log=False,\n",
    "                       ylim=ylim)"
   ]
  },
  {
   "cell_type": "code",
   "execution_count": null,
   "metadata": {},
   "outputs": [],
   "source": []
  }
 ],
 "metadata": {
  "kernelspec": {
   "display_name": "Python 3",
   "language": "python",
   "name": "python3"
  },
  "language_info": {
   "codemirror_mode": {
    "name": "ipython",
    "version": 3
   },
   "file_extension": ".py",
   "mimetype": "text/x-python",
   "name": "python",
   "nbconvert_exporter": "python",
   "pygments_lexer": "ipython3",
   "version": "3.6.13"
  }
 },
 "nbformat": 4,
 "nbformat_minor": 4
}
